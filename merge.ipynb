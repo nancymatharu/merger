{
 "cells": [
  {
   "cell_type": "code",
   "execution_count": 1,
   "metadata": {},
   "outputs": [],
   "source": [
    "import pandas as pd\r\n",
    "#importing csv files as input\r\n",
    "barA = pd.read_csv(r'.\\input\\barcodesA.csv')\r\n",
    "supA = pd.read_csv(r'.\\input\\suppliersA.csv')\r\n",
    "barB = pd.read_csv(r'.\\input\\barcodesB.csv')\r\n",
    "supB = pd.read_csv(r'.\\input\\suppliersB.csv')\r\n",
    "catA = pd.read_csv(r'.\\input\\catalogA.csv')\r\n",
    "catB = pd.read_csv(r'.\\input\\catalogB.csv')"
   ]
  },
  {
   "cell_type": "code",
   "execution_count": 2,
   "metadata": {},
   "outputs": [],
   "source": [
    "#merging catalog and barcode files \r\n",
    "mer_barcatA = catA.merge(barA, on='SKU')\r\n",
    "mer_barcatB = catB.merge(barB, on='SKU')"
   ]
  },
  {
   "cell_type": "code",
   "execution_count": 3,
   "metadata": {},
   "outputs": [],
   "source": [
    "#getting unique products from supplier A\r\n",
    "df1 = mer_barcatA.drop('Barcode',axis=1)\r\n",
    "result1 = df1.groupby('SKU',as_index=False,sort=False).first()"
   ]
  },
  {
   "cell_type": "code",
   "execution_count": 4,
   "metadata": {},
   "outputs": [],
   "source": [
    "#replacing supplierId with Source as 'A' for supplier A\r\n",
    "result1['SupplierID'] = 'A'\r\n",
    "result1.rename(columns={'SupplierID': 'Source'}, inplace=True)\r\n"
   ]
  },
  {
   "cell_type": "code",
   "execution_count": 5,
   "metadata": {},
   "outputs": [],
   "source": [
    "#merging products from both the suppliers\r\n",
    "merge_AB = pd.merge(mer_barcatA,mer_barcatB,how='right',on='Barcode')\r\n"
   ]
  },
  {
   "cell_type": "code",
   "execution_count": 6,
   "metadata": {},
   "outputs": [],
   "source": [
    "#getting unique products from supplierB which are not provided by supplierA\r\n",
    "df2 = merge_AB.groupby('SKU_y',as_index=False,sort=False).first()\r\n",
    "result2 = df2[df2['SKU_x'].isna()].drop(['SKU_x','Description_x','SupplierID_x','Barcode'],axis=1)"
   ]
  },
  {
   "cell_type": "code",
   "execution_count": 7,
   "metadata": {},
   "outputs": [],
   "source": [
    "#replacing supplierId with Source as 'B' for supplier B\r\n",
    "result2['SupplierID_y'] = 'B'\r\n",
    "result2.rename(columns={'SupplierID_y': 'Source','Description_y' : 'Description','SKU_y' : 'SKU'}, inplace=True)"
   ]
  },
  {
   "cell_type": "code",
   "execution_count": 8,
   "metadata": {},
   "outputs": [],
   "source": [
    "#merging the product codes from supplier A and B, writing final list to output.csv file \r\n",
    "finaldf = pd.concat([result1, result2], axis=0)\r\n",
    "finaldf.to_csv(r'.\\output\\result_output.csv',index=False)\r\n"
   ]
  }
 ],
 "metadata": {
  "interpreter": {
   "hash": "8316260c91687f714532bf68e22915c4e4a0676198abf86ad26a22d7b053731c"
  },
  "kernelspec": {
   "display_name": "Python 3.9.6 64-bit",
   "name": "python3"
  },
  "language_info": {
   "codemirror_mode": {
    "name": "ipython",
    "version": 3
   },
   "file_extension": ".py",
   "mimetype": "text/x-python",
   "name": "python",
   "nbconvert_exporter": "python",
   "pygments_lexer": "ipython3",
   "version": "3.9.6"
  },
  "orig_nbformat": 4
 },
 "nbformat": 4,
 "nbformat_minor": 2
}